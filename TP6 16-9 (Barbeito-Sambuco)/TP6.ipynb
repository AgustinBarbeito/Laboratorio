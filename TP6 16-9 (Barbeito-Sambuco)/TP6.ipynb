{
 "cells": [
  {
   "cell_type": "code",
   "execution_count": 1,
   "metadata": {},
   "outputs": [],
   "source": [
    "import requests\n",
    "import pandas as pd\n",
    "from bs4 import BeautifulSoup\n",
    "\n",
    "def obtenerTexto(valor):\n",
    "    textos = []\n",
    "    for x in valor:\n",
    "        textos.append(x.getText())\n",
    "    return textos\n",
    "\n",
    "if __name__ == '__main__':\n",
    "\n",
    "    pagina = requests.get(\"https://lol.fandom.com/wiki/LEC/2021_Season/Spring_Season\")\n",
    "    html = BeautifulSoup(pagina.content, 'html.parser')\n",
    "    diccionario = {}\n",
    "\n",
    "    tabla = html.find('table', class_=\"standings\")\n",
    "\n",
    "    rank = html.find_all('td', class_=\"standings-place\")\n",
    "    diccionario['rank'] = obtenerTexto(rank) \n",
    "\n",
    "    teams = tabla.find_all('td', class_=\"standings-team\")\n",
    "    diccionario['teams'] = obtenerTexto(teams)\n",
    "\n",
    "    \n",
    "    dataframe = pd.DataFrame(diccionario)\n",
    "    dataframe.to_csv(\"LCSTeams.csv\") \n",
    "\n",
    "\n"
   ]
  }
 ],
 "metadata": {
  "interpreter": {
   "hash": "407f76a35bc4d97432a19b8fd7b5f00c6416e65e11fba74f57e5261f9854d2b9"
  },
  "kernelspec": {
   "display_name": "Python 3.9.7 64-bit ('base': conda)",
   "language": "python",
   "name": "python3"
  },
  "language_info": {
   "codemirror_mode": {
    "name": "ipython",
    "version": 3
   },
   "file_extension": ".py",
   "mimetype": "text/x-python",
   "name": "python",
   "nbconvert_exporter": "python",
   "pygments_lexer": "ipython3",
   "version": "3.9.7"
  },
  "orig_nbformat": 4
 },
 "nbformat": 4,
 "nbformat_minor": 2
}
