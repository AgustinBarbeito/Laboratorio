{
 "cells": [
  {
   "cell_type": "code",
   "execution_count": 270,
   "metadata": {},
   "outputs": [],
   "source": [
    "import pandas as pd\n",
    "import matplotlib as plt\n",
    "\n",
    "Barrios = pd.read_csv(\"data/barrios.csv\")\n",
    "Casos = pd.read_csv(\"data/casos.csv\")\n",
    "Comunas = pd.read_csv(\"data/comunas.csv\")"
   ]
  },
  {
   "cell_type": "markdown",
   "metadata": {},
   "source": [
    "1.Obtener el nombre, área y perímetro de los barrios que pertenecen a la comuna número 3."
   ]
  },
  {
   "cell_type": "code",
   "execution_count": 271,
   "metadata": {},
   "outputs": [
    {
     "name": "stdout",
     "output_type": "stream",
     "text": [
      "           barrio          area    perimetro\n",
      "12  SAN CRISTOBAL  2.043711e+06  5987.226479\n",
      "24      BALVANERA  4.342280e+06  8375.821811\n"
     ]
    }
   ],
   "source": [
    "BarriosComuna3 = Barrios[[\"barrio\",\"area\",\"perimetro\"]]\n",
    "BarriosComuna3 = BarriosComuna3[Barrios.comuna == 3]\n",
    "print (BarriosComuna3)"
   ]
  },
  {
   "cell_type": "markdown",
   "metadata": {},
   "source": [
    "2.Obtener el nombre, área y perímetro de los barrios que pertenecen a los números de comunas mayores a 4 y menores a 10."
   ]
  },
  {
   "cell_type": "code",
   "execution_count": 272,
   "metadata": {},
   "outputs": [
    {
     "name": "stdout",
     "output_type": "stream",
     "text": [
      "               barrio          area     perimetro\n",
      "4             ALMAGRO  4.050752e+06   8537.901368\n",
      "5           CABALLITO  6.851029e+06  10990.964471\n",
      "9              FLORES  8.590784e+06  15772.439510\n",
      "13              BOEDO  2.609851e+06   6602.510266\n",
      "17          MATADEROS  7.398179e+06  11124.635792\n",
      "18       VILLA LUGANO  9.296142e+06  15057.468389\n",
      "30  PARQUE AVELLANEDA  4.732708e+06  10165.614028\n",
      "31   PARQUE CHACABUCO  3.832117e+06   8406.914321\n",
      "34    VILLA RIACHUELO  4.232596e+06  10596.826739\n",
      "35      VILLA SOLDATI  8.688164e+06  12441.695877\n",
      "38            LINIERS  4.374419e+06   9256.927321\n"
     ]
    }
   ],
   "source": [
    "Condicion = (Barrios.comuna > 4) & (Barrios.comuna < 10)\n",
    "Barrios4a10 = Barrios[[\"barrio\",\"area\",\"perimetro\"]]\n",
    "print(Barrios4a10[Condicion])"
   ]
  },
  {
   "cell_type": "markdown",
   "metadata": {},
   "source": [
    "3.Obtener el perímetro y área de la comuna a la que pertenece el barrio con índice igual a 5."
   ]
  },
  {
   "cell_type": "code",
   "execution_count": 273,
   "metadata": {},
   "outputs": [
    {
     "name": "stdout",
     "output_type": "stream",
     "text": [
      "   COMUNAS     PERIMETRO          AREA\n",
      "1      6.0  10990.964471  6.851029e+06\n"
     ]
    }
   ],
   "source": [
    "Comuna = Barrios.comuna[Barrios.index == 5]\n",
    "Comuna = Comunas.COMUNAS==int(Comuna)\n",
    "ComunasPyA = Comunas[[\"COMUNAS\",\"PERIMETRO\", \"AREA\"]]\n",
    "print(ComunasPyA[Comuna])"
   ]
  },
  {
   "cell_type": "markdown",
   "metadata": {},
   "source": [
    "4.Obtener los números de comunas cuyos barrios comienzan con \"v\"."
   ]
  },
  {
   "cell_type": "code",
   "execution_count": 274,
   "metadata": {},
   "outputs": [
    {
     "name": "stdout",
     "output_type": "stream",
     "text": [
      "[15, 11, 10, 8, 12]\n"
     ]
    }
   ],
   "source": [
    "ComunasconV = Barrios.barrio.str.startswith(\"V\")\n",
    "ComunasconV = Barrios.comuna[ComunasconV].unique().tolist()\n",
    "print(ComunasconV)\n"
   ]
  },
  {
   "cell_type": "markdown",
   "metadata": {},
   "source": [
    "5.Obtener el área de las comunas cuyos barrios tengan la letra \"a\" en su nombre."
   ]
  },
  {
   "cell_type": "code",
   "execution_count": 275,
   "metadata": {},
   "outputs": [
    {
     "name": "stdout",
     "output_type": "stream",
     "text": [
      "               barrio          area\n",
      "0           CHACARITA  3.115707e+06\n",
      "1            PATERNAL  2.229829e+06\n",
      "2        VILLA CRESPO  3.615978e+06\n",
      "3    VILLA DEL PARQUE  3.399596e+06\n",
      "4             ALMAGRO  4.050752e+06\n",
      "5           CABALLITO  6.851029e+06\n",
      "6    VILLA SANTA RITA  2.153691e+06\n",
      "7        MONTE CASTRO  2.627481e+06\n",
      "8          VILLA REAL  1.334146e+06\n",
      "10           FLORESTA  2.320641e+06\n",
      "12      SAN CRISTOBAL  2.043711e+06\n",
      "14    VELEZ SARSFIELD  2.400518e+06\n",
      "15         VILLA LURO  2.566937e+06\n",
      "16   PARQUE PATRICIOS  3.743440e+06\n",
      "17          MATADEROS  7.398179e+06\n",
      "18       VILLA LUGANO  9.296142e+06\n",
      "19          SAN TELMO  1.232270e+06\n",
      "20           SAAVEDRA  5.538677e+06\n",
      "21            COGHLAN  1.279951e+06\n",
      "22      VILLA URQUIZA  5.449059e+06\n",
      "23         COLEGIALES  2.289774e+06\n",
      "24          BALVANERA  4.342280e+06\n",
      "25  VILLA GRAL. MITRE  2.162275e+06\n",
      "26        PARQUE CHAS  1.385412e+06\n",
      "27          AGRONOMIA  2.122169e+06\n",
      "28      VILLA ORTUZAR  1.853802e+06\n",
      "29           BARRACAS  7.953453e+06\n",
      "30  PARQUE AVELLANEDA  4.732708e+06\n",
      "31   PARQUE CHACABUCO  3.832117e+06\n",
      "32      NUEVA POMPEYA  4.951511e+06\n",
      "33            PALERMO  1.584587e+07\n",
      "34    VILLA RIACHUELO  4.232596e+06\n",
      "35      VILLA SOLDATI  8.688164e+06\n",
      "36   VILLA PUEYRREDON  3.303240e+06\n",
      "37       VILLA DEVOTO  6.404481e+06\n",
      "39          VERSALLES  1.406834e+06\n",
      "40      PUERTO MADERO  5.040971e+06\n",
      "41          MONSERRAT  2.198622e+06\n",
      "42        SAN NICOLAS  2.289008e+06\n",
      "43           BELGRANO  7.999240e+06\n",
      "44           RECOLETA  6.317265e+06\n",
      "47               BOCA  5.036240e+06\n"
     ]
    }
   ],
   "source": [
    "BarriosConA = Barrios.barrio.str.contains(\"A\")\n",
    "BarriosCA = Barrios[[\"barrio\",\"area\"]]\n",
    "print(BarriosCA[BarriosConA])"
   ]
  },
  {
   "cell_type": "markdown",
   "metadata": {},
   "source": [
    "6.Obtener el perímetro de la comuna correspondiente al caso con índice igual a 15."
   ]
  },
  {
   "cell_type": "code",
   "execution_count": 276,
   "metadata": {},
   "outputs": [
    {
     "name": "stdout",
     "output_type": "stream",
     "text": [
      "12    21411.738344\n",
      "Name: PERIMETRO, dtype: float64\n"
     ]
    }
   ],
   "source": [
    "ComunaIndice15 = Casos.comuna[Casos.index == 15]\n",
    "ComunaIndice15 = Comunas.COMUNAS==int(ComunaIndice15)\n",
    "print(Comunas.PERIMETRO[ComunaIndice15])"
   ]
  },
  {
   "cell_type": "markdown",
   "metadata": {},
   "source": [
    "7.Obtener el área del barrio correspondiente al caso con índice igual a 7."
   ]
  },
  {
   "cell_type": "code",
   "execution_count": 277,
   "metadata": {},
   "outputs": [
    {
     "name": "stdout",
     "output_type": "stream",
     "text": [
      "             barrio          area\n",
      "3  VILLA DEL PARQUE  3.399596e+06\n"
     ]
    }
   ],
   "source": [
    "BarrioComuna7 = Casos.barrio[Casos.index == 7]\n",
    "BarrioComuna7 = BarrioComuna7.tolist()[0]\n",
    "Condicion = Barrios.barrio == BarrioComuna7\n",
    "BarriosNyA = Barrios[[\"barrio\",\"area\"]]\n",
    "print(BarriosNyA[Condicion])"
   ]
  },
  {
   "cell_type": "markdown",
   "metadata": {},
   "source": [
    "8.Obtener el índice, nombre y nro. de comuna de los barrios cuyos resídentes estén asociados a los números de casos mayores a 6.000.000 y menores a 7.000.000"
   ]
  },
  {
   "cell_type": "code",
   "execution_count": 278,
   "metadata": {},
   "outputs": [
    {
     "name": "stdout",
     "output_type": "stream",
     "text": [
      "              barrio  comuna\n",
      "0          CHACARITA      15\n",
      "4            ALMAGRO       5\n",
      "9             FLORES       7\n",
      "11      CONSTITUCION       1\n",
      "17         MATADEROS       9\n",
      "20          SAAVEDRA      12\n",
      "22     VILLA URQUIZA      12\n",
      "28     VILLA ORTUZAR      15\n",
      "29          BARRACAS       4\n",
      "31  PARQUE CHACABUCO       7\n",
      "33           PALERMO      14\n",
      "42       SAN NICOLAS       1\n",
      "43          BELGRANO      13\n",
      "44          RECOLETA       2\n",
      "45            RETIRO       1\n"
     ]
    }
   ],
   "source": [
    "Condicion = (Casos.numero_de_caso > 6000000) & (Casos.numero_de_caso < 7000000)\n",
    "barrios = Casos.barrio[Condicion]\n",
    "barrios = Barrios.barrio.isin(barrios)\n",
    "BarriosNyC = Barrios[[\"barrio\",\"comuna\"]]\n",
    "print(BarriosNyC[barrios])"
   ]
  },
  {
   "cell_type": "markdown",
   "metadata": {},
   "source": [
    "9.Obtener el género y la edad de aquellas personas que pertenecen al barrio con índice igual a 3."
   ]
  },
  {
   "cell_type": "code",
   "execution_count": 279,
   "metadata": {},
   "outputs": [
    {
     "name": "stdout",
     "output_type": "stream",
     "text": [
      "        genero  edad\n",
      "7    masculino    29\n",
      "150  masculino    30\n",
      "354  masculino    52\n",
      "459   femenino    25\n",
      "509   femenino    41\n"
     ]
    }
   ],
   "source": [
    "BarrioIndice3 = Barrios.barrio[Barrios.index == 3].tolist()[0]\n",
    "Condicion = Casos.barrio == BarrioIndice3\n",
    "dfCasosGyE = Casos[[\"genero\",\"edad\"]]\n",
    "print(dfCasosGyE[Condicion])"
   ]
  },
  {
   "cell_type": "markdown",
   "metadata": {},
   "source": [
    "10.Obtener el nombre y el índice de los barrios de los casos cuyo tipo de contagio es igual a \"En Investigación\"."
   ]
  },
  {
   "cell_type": "code",
   "execution_count": 280,
   "metadata": {},
   "outputs": [
    {
     "name": "stdout",
     "output_type": "stream",
     "text": [
      "               barrio\n",
      "0           CHACARITA\n",
      "7        MONTE CASTRO\n",
      "9              FLORES\n",
      "11       CONSTITUCION\n",
      "13              BOEDO\n",
      "14    VELEZ SARSFIELD\n",
      "17          MATADEROS\n",
      "18       VILLA LUGANO\n",
      "19          SAN TELMO\n",
      "20           SAAVEDRA\n",
      "24          BALVANERA\n",
      "25  VILLA GRAL. MITRE\n",
      "29           BARRACAS\n",
      "30  PARQUE AVELLANEDA\n",
      "31   PARQUE CHACABUCO\n",
      "33            PALERMO\n",
      "35      VILLA SOLDATI\n",
      "41          MONSERRAT\n",
      "44           RECOLETA\n",
      "46              NUÑEZ\n"
     ]
    }
   ],
   "source": [
    "barriosEnInvestigacion = Casos.barrio[Casos.tipo_contagio == \"En Investigación\"]\n",
    "condicion = Barrios.barrio.isin(barriosEnInvestigacion)\n",
    "BarriosN = Barrios[[\"barrio\"]]\n",
    "print(BarriosN[condicion])\n",
    "\n"
   ]
  },
  {
   "cell_type": "markdown",
   "metadata": {},
   "source": [
    "11.Obtener el nombre y el índice de los barrios cuyos casos correspondan a personas menores de edad."
   ]
  },
  {
   "cell_type": "code",
   "execution_count": 281,
   "metadata": {},
   "outputs": [
    {
     "name": "stdout",
     "output_type": "stream",
     "text": [
      "           barrio\n",
      "0       CHACARITA\n",
      "4         ALMAGRO\n",
      "5       CABALLITO\n",
      "9          FLORES\n",
      "17      MATADEROS\n",
      "18   VILLA LUGANO\n",
      "22  VILLA URQUIZA\n",
      "32  NUEVA POMPEYA\n",
      "37   VILLA DEVOTO\n",
      "43       BELGRANO\n",
      "44       RECOLETA\n",
      "45         RETIRO\n"
     ]
    }
   ],
   "source": [
    "BarriosConCasosEnMenores = Casos.barrio[Casos.edad < 18]\n",
    "Condicion = Barrios.barrio.isin(BarriosConCasosEnMenores)\n",
    "BarriosN = Barrios[[\"barrio\"]]\n",
    "print(BarriosN[Condicion])"
   ]
  },
  {
   "cell_type": "markdown",
   "metadata": {},
   "source": [
    "12.Obtener el índice, número de caso, género y edad de aquellos casos que no pertenezcan a los barrios con índice mayor a 4."
   ]
  },
  {
   "cell_type": "code",
   "execution_count": 282,
   "metadata": {},
   "outputs": [
    {
     "name": "stdout",
     "output_type": "stream",
     "text": [
      "     numero_de_caso     genero  edad\n",
      "7           7673498  masculino    29\n",
      "19          7673629  masculino    68\n",
      "49          7692683  masculino    25\n",
      "99          7718539  masculino    18\n",
      "150         7721916  masculino    30\n",
      "154         7722007  masculino    31\n",
      "160         7725230  masculino    58\n",
      "161         7725232  masculino    33\n",
      "167         7726081   femenino    35\n",
      "208         7735475  masculino    34\n",
      "230         7736770  masculino    69\n",
      "231         7736847  masculino    45\n",
      "240         7736991  masculino    77\n",
      "264         7717778  masculino    43\n",
      "266         7717796   femenino    38\n",
      "280         7718104  masculino    63\n",
      "346         9690247   femenino    58\n",
      "354        10487114  masculino    52\n",
      "379         8367848   femenino    40\n",
      "413         6270671  masculino    56\n",
      "435        15519416   femenino    42\n",
      "437         1629445   femenino    27\n",
      "446         5018271  masculino    72\n",
      "451         5362506  masculino    72\n",
      "459         5321867   femenino    25\n",
      "509         7721664   femenino    41\n",
      "566         4888070   femenino    21\n",
      "569         4927681   femenino     7\n"
     ]
    }
   ],
   "source": [
    "CasosEnBarrioIndiceMayor4 = Barrios.barrio[Barrios.index < 4]\n",
    "Condicion = Casos.barrio.isin(CasosEnBarrioIndiceMayor4)\n",
    "CasosNumeroGeneroEdad = Casos[[\"numero_de_caso\",\"genero\",\"edad\"]]\n",
    "print(CasosNumeroGeneroEdad[Condicion])"
   ]
  },
  {
   "cell_type": "markdown",
   "metadata": {},
   "source": [
    "13.Obtener el índice, número de caso, género y edad de aquellos casos que no pertenezcan a la comuna 13."
   ]
  },
  {
   "cell_type": "code",
   "execution_count": 283,
   "metadata": {},
   "outputs": [
    {
     "name": "stdout",
     "output_type": "stream",
     "text": [
      "     numero_de_caso     genero  edad\n",
      "0           7673311  masculino    30\n",
      "1           7673339   femenino    17\n",
      "4           7673405  masculino    84\n",
      "6           7673482  masculino    71\n",
      "8           7673541   femenino    33\n",
      "..              ...        ...   ...\n",
      "592         5173481   femenino    23\n",
      "595         5207581  masculino    37\n",
      "596         5286275   femenino    86\n",
      "597         5287632  masculino    36\n",
      "598         5287907   femenino    42\n",
      "\n",
      "[263 rows x 3 columns]\n"
     ]
    }
   ],
   "source": [
    "CasosNoComuna13 = Casos.comuna[Casos.comuna != 13]\n",
    "Condicion = Casos.barrio.isin(CasosNoComuna13)\n",
    "print(CasosNumeroGeneroEdad[Condicion])"
   ]
  }
 ],
 "metadata": {
  "interpreter": {
   "hash": "30bd57e1999838de9bcd473759c41c4ddb5a2b48dd9e70178539ab1500b044f0"
  },
  "kernelspec": {
   "display_name": "Python 3.9.7 64-bit (windows store)",
   "language": "python",
   "name": "python3"
  },
  "language_info": {
   "codemirror_mode": {
    "name": "ipython",
    "version": 3
   },
   "file_extension": ".py",
   "mimetype": "text/x-python",
   "name": "python",
   "nbconvert_exporter": "python",
   "pygments_lexer": "ipython3",
   "version": "3.9.7"
  },
  "orig_nbformat": 4
 },
 "nbformat": 4,
 "nbformat_minor": 2
}
