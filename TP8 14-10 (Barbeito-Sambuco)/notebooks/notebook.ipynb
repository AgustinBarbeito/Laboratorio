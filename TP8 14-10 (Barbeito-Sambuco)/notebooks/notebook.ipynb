{
 "cells": [
  {
   "cell_type": "code",
   "execution_count": 1,
   "metadata": {
    "collapsed": true
   },
   "outputs": [],
   "source": [
    "import requests\n",
    "\n",
    "if __name__ == '__main__':\n",
    "\n",
    "    token = \"8d2706ec-ccb3-49e1-a474-ec0b2313851d\"\n",
    "\n",
    "    ApiUrl = f\"https://futdb.app/api/players?page=0&limit=20\"\n",
    "    headers = {\n",
    "        \"X-AUTH-TOKEN\":token\n",
    "    }\n",
    "\n",
    "    res = requests.get(url=ApiUrl, headers=headers)\n",
    "    resJson = res.json()\n",
    "    \n",
    "    for items in resJson['items']:\n",
    "        linea = str(items['name']) + \",\" + items['birth_date'] + \",\" + items['foot'] + \"\\n\"\n",
    "        archivo = open(\"jugadores.csv\", \"a\")\n",
    "        archivo.write(linea)\n",
    "        archivo.close()"
   ]
  },
  {
   "cell_type": "code",
   "execution_count": null,
   "metadata": {
    "collapsed": false,
    "pycharm": {
     "name": "#%%\n"
    }
   },
   "outputs": [],
   "source": []
  }
 ],
 "metadata": {
  "kernelspec": {
   "display_name": "Python 3",
   "language": "python",
   "name": "python3"
  },
  "language_info": {
   "codemirror_mode": {
    "name": "ipython",
    "version": 3
   },
   "file_extension": ".py",
   "mimetype": "text/x-python",
   "name": "python",
   "nbconvert_exporter": "python",
   "pygments_lexer": "ipython3",
   "version": "3.9.7"
  }
 },
 "nbformat": 4,
 "nbformat_minor": 0
}
